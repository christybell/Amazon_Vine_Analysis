{
  "nbformat": 4,
  "nbformat_minor": 0,
  "metadata": {
    "colab": {
      "name": "Amazon_Reviews_ETL.ipynb",
      "provenance": []
    },
    "kernelspec": {
      "display_name": "PythonData",
      "language": "python",
      "name": "pythondata"
    },
    "language_info": {
      "codemirror_mode": {
        "name": "ipython",
        "version": 3
      },
      "file_extension": ".py",
      "mimetype": "text/x-python",
      "name": "python",
      "nbconvert_exporter": "python",
      "pygments_lexer": "ipython3",
      "version": "3.7.7"
    },
    "nteract": {
      "version": "0.12.3"
    }
  },
  "cells": [
    {
      "cell_type": "code",
      "metadata": {
        "id": "V58rxea0HqSa",
        "colab": {
          "base_uri": "https://localhost:8080/"
        },
        "outputId": "9bafb411-e1b8-4aac-bc07-76f85d1ffc28"
      },
      "source": [
        "import os\n",
        "# Find the latest version of spark 2.0  from http://www-us.apache.org/dist/spark/ and enter as the spark version\n",
        "# For example:\n",
        "# spark_version = 'spark-3.0.0'\n",
        "spark_version = 'spark-3.0.2'\n",
        "os.environ['SPARK_VERSION']=spark_version\n",
        "\n",
        "# Install Spark and Java\n",
        "!apt-get update\n",
        "!apt-get install openjdk-11-jdk-headless -qq > /dev/null\n",
        "!wget -q http://www-us.apache.org/dist/spark/$SPARK_VERSION/$SPARK_VERSION-bin-hadoop2.7.tgz\n",
        "!tar xf $SPARK_VERSION-bin-hadoop2.7.tgz\n",
        "!pip install -q findspark\n",
        "\n",
        "# Set Environment Variables\n",
        "import os\n",
        "os.environ[\"JAVA_HOME\"] = \"/usr/lib/jvm/java-11-openjdk-amd64\"\n",
        "os.environ[\"SPARK_HOME\"] = f\"/content/{spark_version}-bin-hadoop2.7\"\n",
        "\n",
        "# Start a SparkSession\n",
        "import findspark\n",
        "findspark.init()"
      ],
      "execution_count": 1,
      "outputs": [
        {
          "output_type": "stream",
          "text": [
            "\r0% [Working]\r            \rGet:1 http://security.ubuntu.com/ubuntu bionic-security InRelease [88.7 kB]\n",
            "\r0% [Connecting to archive.ubuntu.com (91.189.88.152)] [1 InRelease 14.2 kB/88.7\r                                                                               \rHit:2 https://cloud.r-project.org/bin/linux/ubuntu bionic-cran40/ InRelease\n",
            "\r0% [Connecting to archive.ubuntu.com (91.189.88.152)] [1 InRelease 88.7 kB/88.7\r0% [Connecting to archive.ubuntu.com (91.189.88.152)] [Connecting to ppa.launch\r0% [2 InRelease gpgv 3,626 B] [Connecting to archive.ubuntu.com (91.189.88.152)\r                                                                               \rIgn:3 https://developer.download.nvidia.com/compute/cuda/repos/ubuntu1804/x86_64  InRelease\n",
            "\r0% [2 InRelease gpgv 3,626 B] [Waiting for headers] [Waiting for headers] [Wait\r                                                                               \rHit:4 http://ppa.launchpad.net/c2d4u.team/c2d4u4.0+/ubuntu bionic InRelease\n",
            "\r0% [2 InRelease gpgv 3,626 B] [Waiting for headers] [Connecting to ppa.launchpa\r                                                                               \rHit:5 http://archive.ubuntu.com/ubuntu bionic InRelease\n",
            "\r0% [2 InRelease gpgv 3,626 B] [Waiting for headers] [Connecting to ppa.launchpa\r                                                                               \rIgn:6 https://developer.download.nvidia.com/compute/machine-learning/repos/ubuntu1804/x86_64  InRelease\n",
            "\r0% [2 InRelease gpgv 3,626 B] [Waiting for headers] [Connecting to ppa.launchpa\r                                                                               \rHit:7 https://developer.download.nvidia.com/compute/cuda/repos/ubuntu1804/x86_64  Release\n",
            "\r0% [2 InRelease gpgv 3,626 B] [Waiting for headers] [Connecting to ppa.launchpa\r                                                                               \rHit:8 https://developer.download.nvidia.com/compute/machine-learning/repos/ubuntu1804/x86_64  Release\n",
            "Get:9 http://archive.ubuntu.com/ubuntu bionic-updates InRelease [88.7 kB]\n",
            "Hit:10 http://ppa.launchpad.net/cran/libgit2/ubuntu bionic InRelease\n",
            "Hit:11 http://ppa.launchpad.net/deadsnakes/ppa/ubuntu bionic InRelease\n",
            "Get:12 http://archive.ubuntu.com/ubuntu bionic-backports InRelease [74.6 kB]\n",
            "Hit:13 http://ppa.launchpad.net/graphics-drivers/ppa/ubuntu bionic InRelease\n",
            "Fetched 252 kB in 2s (115 kB/s)\n",
            "Reading package lists... Done\n"
          ],
          "name": "stdout"
        }
      ]
    },
    {
      "cell_type": "code",
      "metadata": {
        "id": "_xKwTpATHqSe",
        "colab": {
          "base_uri": "https://localhost:8080/"
        },
        "outputId": "4ec9df99-76ac-4168-db99-e1df0eaf2090"
      },
      "source": [
        "# Download the Postgres driver that will allow Spark to interact with Postgres.\n",
        "!wget https://jdbc.postgresql.org/download/postgresql-42.2.16.jar"
      ],
      "execution_count": 2,
      "outputs": [
        {
          "output_type": "stream",
          "text": [
            "--2021-04-24 00:44:39--  https://jdbc.postgresql.org/download/postgresql-42.2.16.jar\n",
            "Resolving jdbc.postgresql.org (jdbc.postgresql.org)... 72.32.157.228, 2001:4800:3e1:1::228\n",
            "Connecting to jdbc.postgresql.org (jdbc.postgresql.org)|72.32.157.228|:443... connected.\n",
            "HTTP request sent, awaiting response... 200 OK\n",
            "Length: 1002883 (979K) [application/java-archive]\n",
            "Saving to: ‘postgresql-42.2.16.jar.6’\n",
            "\n",
            "postgresql-42.2.16. 100%[===================>] 979.38K  5.71MB/s    in 0.2s    \n",
            "\n",
            "2021-04-24 00:44:40 (5.71 MB/s) - ‘postgresql-42.2.16.jar.6’ saved [1002883/1002883]\n",
            "\n"
          ],
          "name": "stdout"
        }
      ]
    },
    {
      "cell_type": "code",
      "metadata": {
        "id": "MMqDAjVS0KN9"
      },
      "source": [
        "from pyspark.sql import SparkSession\n",
        "spark = SparkSession.builder.appName(\"BigData-Challenge\").config(\"spark.driver.extraClassPath\",\"/content/postgresql-42.2.16.jar\").getOrCreate()"
      ],
      "execution_count": 3,
      "outputs": []
    },
    {
      "cell_type": "markdown",
      "metadata": {
        "id": "cyBsySGuY-9V"
      },
      "source": [
        "### Load Amazon Data into Spark DataFrame"
      ]
    },
    {
      "cell_type": "code",
      "metadata": {
        "id": "CtCmBhQJY-9Z",
        "colab": {
          "base_uri": "https://localhost:8080/"
        },
        "outputId": "2324f412-d7aa-451c-eb39-a981cdbf880a"
      },
      "source": [
        "from pyspark import SparkFiles\n",
        "url = \"https://s3.amazonaws.com/amazon-reviews-pds/tsv/amazon_reviews_us_Watches_v1_00.tsv.gz\"\n",
        "spark.sparkContext.addFile(url)\n",
        "df = spark.read.option(\"encoding\", \"UTF-8\").csv(SparkFiles.get(\"amazon_reviews_us_Watches_v1_00.tsv.gz\"), sep=\"\\t\", header=True, inferSchema=True)\n",
        "df.show()"
      ],
      "execution_count": 4,
      "outputs": [
        {
          "output_type": "stream",
          "text": [
            "+-----------+-----------+--------------+----------+--------------+--------------------+----------------+-----------+-------------+-----------+----+-----------------+--------------------+--------------------+-----------+\n",
            "|marketplace|customer_id|     review_id|product_id|product_parent|       product_title|product_category|star_rating|helpful_votes|total_votes|vine|verified_purchase|     review_headline|         review_body|review_date|\n",
            "+-----------+-----------+--------------+----------+--------------+--------------------+----------------+-----------+-------------+-----------+----+-----------------+--------------------+--------------------+-----------+\n",
            "|         US|    3653882|R3O9SGZBVQBV76|B00FALQ1ZC|     937001370|Invicta Women's 1...|         Watches|          5|            0|          0|   N|                Y|          Five Stars|Absolutely love t...| 2015-08-31|\n",
            "|         US|   14661224| RKH8BNC3L5DLF|B00D3RGO20|     484010722|Kenneth Cole New ...|         Watches|          5|            0|          0|   N|                Y|I love thiswatch ...|I love this watch...| 2015-08-31|\n",
            "|         US|   27324930|R2HLE8WKZSU3NL|B00DKYC7TK|     361166390|Ritche 22mm Black...|         Watches|          2|            1|          1|   N|                Y|           Two Stars|           Scratches| 2015-08-31|\n",
            "|         US|    7211452|R31U3UH5AZ42LL|B000EQS1JW|     958035625|Citizen Men's BM8...|         Watches|          5|            0|          0|   N|                Y|          Five Stars|It works well on ...| 2015-08-31|\n",
            "|         US|   12733322|R2SV659OUJ945Y|B00A6GFD7S|     765328221|Orient ER27009B M...|         Watches|          4|            0|          0|   N|                Y|Beautiful face, b...|Beautiful watch f...| 2015-08-31|\n",
            "|         US|    6576411| RA51CP8TR5A2L|B00EYSOSE8|     230493695|Casio Men's GW-94...|         Watches|          5|            0|          0|   N|                Y|       No complaints|i love this watch...| 2015-08-31|\n",
            "|         US|   11811565| RB2Q7DLDN6TH6|B00WM0QA3M|     549298279|Fossil Women's ES...|         Watches|          5|            1|          1|   N|                Y|          Five Stars|for my wife and s...| 2015-08-31|\n",
            "|         US|   49401598|R2RHFJV0UYBK3Y|B00A4EYBR0|     844009113|INFANTRY Mens Nig...|         Watches|          1|            1|          5|   N|                N|I was about to bu...|I was about to bu...| 2015-08-31|\n",
            "|         US|   45925069|R2Z6JOQ94LFHEP|B00MAMPGGE|     263720892|G-Shock Men's Gre...|         Watches|          5|            1|          2|   N|                Y|      Perfect watch!|Watch is perfect....| 2015-08-31|\n",
            "|         US|   44751341| RX27XIIWY5JPB|B004LBPB7Q|     124278407|Heiden Quad Watch...|         Watches|          4|            0|          0|   N|                Y|Great quality and...|Great quality and...| 2015-08-31|\n",
            "|         US|    9962330|R15C7QEZT0LGZN|B00KGTVGKS|      28017857|Fossil Women's ES...|         Watches|          4|            2|          2|   N|                Y|           Satisfied|The watch was pre...| 2015-08-31|\n",
            "|         US|   16097204|R361XSS37V0NCZ|B0039UT5OU|     685450910|Casio General Men...|         Watches|          1|            0|          0|   N|                N|I do not think th...|I bought this wat...| 2015-08-31|\n",
            "|         US|   51330346| ROTNLALUAJAUB|B00MPF0XJQ|     767769082|2Tone Gold Silver...|         Watches|          3|            0|          0|   N|                Y|         Three Stars|It is a cheap wat...| 2015-08-31|\n",
            "|         US|    4201739|R2DYX7QU6BGOHR|B003P1OHHS|     648595227|Bulova Men's 98B1...|         Watches|          5|            0|          0|   N|                Y|          Five Stars|Heavier than i th...| 2015-08-31|\n",
            "|         US|   26339765| RWASY7FKI7QOT|B00R70YEOE|     457338020|Casio - G-Shock -...|         Watches|          5|            2|          3|   N|                Y|  Worth it - love it|Had it for severa...| 2015-08-31|\n",
            "|         US|    2692576|R2KKYZIN3CCL21|B000FVE3BG|     824370661|Invicta Men's 332...|         Watches|          5|            0|          0|   N|                Y|This is when diff...|This one is diffe...| 2015-08-31|\n",
            "|         US|   44713366|R22H4FGVD5O52O|B008X6JB12|     814431355|Seiko Women's SUT...|         Watches|          4|            1|          1|   N|                Y|Thewatch is attra...|The watch is attr...| 2015-08-31|\n",
            "|         US|   32778769|R11UACZERCM4ZY|B0040UOFPW|     187700878|Anne Klein Women'...|         Watches|          5|            0|          0|   N|                Y|          Five Stars|      said my wife..| 2015-08-31|\n",
            "|         US|   27258523|R1AT8NQ38UQOL6|B00UR2R5UY|     594315262|Guess U13630G1 Me...|         Watches|          5|            0|          0|   N|                Y|          Five Stars|Nice watch, on ti...| 2015-08-31|\n",
            "|         US|   42646538|R2NCZRQGIF1Q75|B00HFF57L0|     520810507|Nixon Men's Geo V...|         Watches|          4|            0|          0|   N|                Y|        Very stylish|Looks great and l...| 2015-08-31|\n",
            "+-----------+-----------+--------------+----------+--------------+--------------------+----------------+-----------+-------------+-----------+----+-----------------+--------------------+--------------------+-----------+\n",
            "only showing top 20 rows\n",
            "\n"
          ],
          "name": "stdout"
        }
      ]
    },
    {
      "cell_type": "markdown",
      "metadata": {
        "id": "2yUSe55VY-9t"
      },
      "source": [
        "### Create DataFrames to match tables"
      ]
    },
    {
      "cell_type": "code",
      "metadata": {
        "id": "C8REmY1aY-9u",
        "colab": {
          "base_uri": "https://localhost:8080/"
        },
        "outputId": "573009d4-6305-499b-e152-8db8e72c7258"
      },
      "source": [
        "from pyspark.sql.functions import to_date\n",
        "# Read in the Review dataset as a DataFrame\n",
        "df.show(5)"
      ],
      "execution_count": 5,
      "outputs": [
        {
          "output_type": "stream",
          "text": [
            "+-----------+-----------+--------------+----------+--------------+--------------------+----------------+-----------+-------------+-----------+----+-----------------+--------------------+--------------------+-----------+\n",
            "|marketplace|customer_id|     review_id|product_id|product_parent|       product_title|product_category|star_rating|helpful_votes|total_votes|vine|verified_purchase|     review_headline|         review_body|review_date|\n",
            "+-----------+-----------+--------------+----------+--------------+--------------------+----------------+-----------+-------------+-----------+----+-----------------+--------------------+--------------------+-----------+\n",
            "|         US|    3653882|R3O9SGZBVQBV76|B00FALQ1ZC|     937001370|Invicta Women's 1...|         Watches|          5|            0|          0|   N|                Y|          Five Stars|Absolutely love t...| 2015-08-31|\n",
            "|         US|   14661224| RKH8BNC3L5DLF|B00D3RGO20|     484010722|Kenneth Cole New ...|         Watches|          5|            0|          0|   N|                Y|I love thiswatch ...|I love this watch...| 2015-08-31|\n",
            "|         US|   27324930|R2HLE8WKZSU3NL|B00DKYC7TK|     361166390|Ritche 22mm Black...|         Watches|          2|            1|          1|   N|                Y|           Two Stars|           Scratches| 2015-08-31|\n",
            "|         US|    7211452|R31U3UH5AZ42LL|B000EQS1JW|     958035625|Citizen Men's BM8...|         Watches|          5|            0|          0|   N|                Y|          Five Stars|It works well on ...| 2015-08-31|\n",
            "|         US|   12733322|R2SV659OUJ945Y|B00A6GFD7S|     765328221|Orient ER27009B M...|         Watches|          4|            0|          0|   N|                Y|Beautiful face, b...|Beautiful watch f...| 2015-08-31|\n",
            "+-----------+-----------+--------------+----------+--------------+--------------------+----------------+-----------+-------------+-----------+----+-----------------+--------------------+--------------------+-----------+\n",
            "only showing top 5 rows\n",
            "\n"
          ],
          "name": "stdout"
        }
      ]
    },
    {
      "cell_type": "code",
      "metadata": {
        "id": "B0TESUDRY-90",
        "colab": {
          "base_uri": "https://localhost:8080/"
        },
        "outputId": "8110d305-00d0-4d2f-f676-118a0fa1c959"
      },
      "source": [
        "# Create the customers_table DataFrame\n",
        "customers_df = df.groupby(\"customer_id\").agg({\"customer_id\":\"count\"}).withColumnRenamed(\"count(customer_id)\", \"customer_count\")\n",
        "customers_df.show(5)"
      ],
      "execution_count": 6,
      "outputs": [
        {
          "output_type": "stream",
          "text": [
            "+-----------+--------------+\n",
            "|customer_id|customer_count|\n",
            "+-----------+--------------+\n",
            "|    1567510|             1|\n",
            "|   19502021|             1|\n",
            "|   12819130|             1|\n",
            "|   35329257|             2|\n",
            "|     108460|             1|\n",
            "+-----------+--------------+\n",
            "only showing top 5 rows\n",
            "\n"
          ],
          "name": "stdout"
        }
      ]
    },
    {
      "cell_type": "code",
      "metadata": {
        "id": "4FwXA6UvY-96",
        "colab": {
          "base_uri": "https://localhost:8080/"
        },
        "outputId": "7d2927a9-3640-4557-a6c8-35cc099e455c"
      },
      "source": [
        "# Create the products_table DataFrame and drop duplicates. \n",
        "products_df = df.select([\"product_id\", \"product_title\"]).drop_duplicates()\n",
        "products_df.show(5)"
      ],
      "execution_count": 7,
      "outputs": [
        {
          "output_type": "stream",
          "text": [
            "+----------+--------------------+\n",
            "|product_id|       product_title|\n",
            "+----------+--------------------+\n",
            "|B00EVX7V1I|Game Time Women's...|\n",
            "|B009S4DODY|XOXO Women's XO55...|\n",
            "|B00LBKXQRW|Anne Klein Women'...|\n",
            "|B0009P679Y|Invicta Men's 993...|\n",
            "|B00DHF30RU|M&c Women's | Cla...|\n",
            "+----------+--------------------+\n",
            "only showing top 5 rows\n",
            "\n"
          ],
          "name": "stdout"
        }
      ]
    },
    {
      "cell_type": "code",
      "metadata": {
        "id": "MkqyCuNQY-9-",
        "colab": {
          "base_uri": "https://localhost:8080/"
        },
        "outputId": "3203ee06-4467-4939-df61-36149f07dfbb"
      },
      "source": [
        "# Create the review_id_table DataFrame. \n",
        "# Convert the 'review_date' column to a date datatype with to_date(\"review_date\", 'yyyy-MM-dd').alias(\"review_date\")\n",
        "review_id_df = df.select([\"review_id\", \"customer_id\", \"product_id\", \"product_parent\", to_date(\"review_date\", 'yyyy-MM-dd').alias(\"review_date\")])\n",
        "review_id_df.show(5)"
      ],
      "execution_count": 8,
      "outputs": [
        {
          "output_type": "stream",
          "text": [
            "+--------------+-----------+----------+--------------+-----------+\n",
            "|     review_id|customer_id|product_id|product_parent|review_date|\n",
            "+--------------+-----------+----------+--------------+-----------+\n",
            "|R3O9SGZBVQBV76|    3653882|B00FALQ1ZC|     937001370| 2015-08-31|\n",
            "| RKH8BNC3L5DLF|   14661224|B00D3RGO20|     484010722| 2015-08-31|\n",
            "|R2HLE8WKZSU3NL|   27324930|B00DKYC7TK|     361166390| 2015-08-31|\n",
            "|R31U3UH5AZ42LL|    7211452|B000EQS1JW|     958035625| 2015-08-31|\n",
            "|R2SV659OUJ945Y|   12733322|B00A6GFD7S|     765328221| 2015-08-31|\n",
            "+--------------+-----------+----------+--------------+-----------+\n",
            "only showing top 5 rows\n",
            "\n"
          ],
          "name": "stdout"
        }
      ]
    },
    {
      "cell_type": "code",
      "metadata": {
        "id": "lzMmkdKmY--D",
        "colab": {
          "base_uri": "https://localhost:8080/"
        },
        "outputId": "f02a381e-fd4b-451f-d580-d988a186fa38"
      },
      "source": [
        "# Create the vine_table. DataFrame\n",
        "vine_df = df.select([\"review_id\", \"star_rating\", \"helpful_votes\", \"total_votes\", \"vine\", \"verified_purchase\"])\n",
        "vine_df.show(5)"
      ],
      "execution_count": 9,
      "outputs": [
        {
          "output_type": "stream",
          "text": [
            "+--------------+-----------+-------------+-----------+----+-----------------+\n",
            "|     review_id|star_rating|helpful_votes|total_votes|vine|verified_purchase|\n",
            "+--------------+-----------+-------------+-----------+----+-----------------+\n",
            "|R3O9SGZBVQBV76|          5|            0|          0|   N|                Y|\n",
            "| RKH8BNC3L5DLF|          5|            0|          0|   N|                Y|\n",
            "|R2HLE8WKZSU3NL|          2|            1|          1|   N|                Y|\n",
            "|R31U3UH5AZ42LL|          5|            0|          0|   N|                Y|\n",
            "|R2SV659OUJ945Y|          4|            0|          0|   N|                Y|\n",
            "+--------------+-----------+-------------+-----------+----+-----------------+\n",
            "only showing top 5 rows\n",
            "\n"
          ],
          "name": "stdout"
        }
      ]
    },
    {
      "cell_type": "markdown",
      "metadata": {
        "id": "jITZhLkmY--J"
      },
      "source": [
        "### Connect to the AWS RDS instance and write each DataFrame to its table. "
      ]
    },
    {
      "cell_type": "code",
      "metadata": {
        "id": "7jiUvs1aY--L"
      },
      "source": [
        "# Configure settings for RDS\n",
        "mode = \"append\"\n",
        "jdbc_url=\"jdbc:postgresql://<my_connection_string>:5432/<my_database>\"\n",
        "config = {\"user\":\"postgres\", \n",
        "          \"password\": \"<my_password>\", \n",
        "          \"driver\":\"org.postgresql.Driver\"}"
      ],
      "execution_count": 10,
      "outputs": []
    },
    {
      "cell_type": "code",
      "metadata": {
        "id": "T2zgZ-aKY--Q"
      },
      "source": [
        "# Write review_id_df to table in RDS\n",
        "review_id_df.write.jdbc(url=jdbc_url, table='review_id_table', mode=mode, properties=config)"
      ],
      "execution_count": 11,
      "outputs": []
    },
    {
      "cell_type": "code",
      "metadata": {
        "id": "1m3yzn-LY--U"
      },
      "source": [
        "# Write products_df to table in RDS\n",
        "# about 3 min\n",
        "products_df.write.jdbc(url=jdbc_url, table='products_table', mode=mode, properties=config)"
      ],
      "execution_count": 12,
      "outputs": []
    },
    {
      "cell_type": "code",
      "metadata": {
        "id": "KbXri15fY--Z"
      },
      "source": [
        "# Write customers_df to table in RDS\n",
        "# 5 min 14 s\n",
        "customers_df.write.jdbc(url=jdbc_url, table='customers_table', mode=mode, properties=config)"
      ],
      "execution_count": 13,
      "outputs": []
    },
    {
      "cell_type": "code",
      "metadata": {
        "id": "XdQknSHLY--e"
      },
      "source": [
        "# Write vine_df to table in RDS\n",
        "# 11 minutes\n",
        "vine_df.write.jdbc(url=jdbc_url, table='vine_table', mode=mode, properties=config)"
      ],
      "execution_count": 14,
      "outputs": []
    },
    {
      "cell_type": "code",
      "metadata": {
        "id": "Exuo6ebUsCqW"
      },
      "source": [
        ""
      ],
      "execution_count": null,
      "outputs": []
    }
  ]
}